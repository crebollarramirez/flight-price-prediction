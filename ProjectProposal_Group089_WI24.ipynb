{
 "cells": [
  {
   "cell_type": "markdown",
   "metadata": {},
   "source": [
    "# COGS 108 - Project Proposal"
   ]
  },
  {
   "cell_type": "markdown",
   "metadata": {},
   "source": [
    "# Names\n",
    "\n",
    "- Lucien Chen\n",
    "- Licheng Hu\n",
    "- Christopher Rebollar-Ramirez\n",
    "- Jasdeep Sandhu\n",
    "- Steven Shi\n"
   ]
  },
  {
   "cell_type": "markdown",
   "metadata": {},
   "source": [
    "# Research Question"
   ]
  },
  {
   "cell_type": "markdown",
   "metadata": {},
   "source": [
    "Which factors most significantly affect the pricing of domestic flights from LAX to major U.S. airports in summer season, based on analysis of historical pulled data from Expedia on travel duration, search date, flight date, and arrival airport?\n",
    "\n"
   ]
  },
  {
   "cell_type": "markdown",
   "metadata": {},
   "source": [
    "## Background and Prior Work"
   ]
  },
  {
   "cell_type": "markdown",
   "metadata": {},
   "source": [
    "\n",
    "<a name=\"cite_ref-1\"></a>[<sup>1</sup>](#cite_note-1)Practical Pricing and the Airline Industry | SpringerLink \n",
    "- This paper takes a look at effective pricing strategies within the airline industry. Business travelers are typically less price-sensitive, flexible and fly more often than leisure travelers. Keeping this in mind, airline companies can effectively offer a mix of products and services to maximize their revenues using efficient market segmentation.\n",
    "\n",
    "<a name=\"cite_ref-2\"></a>[<sup>2</sup>](#cite_note-2)Airline pricing under different market conditions: Evidence from European Low-Cost Carriers - ScienceDirect\n",
    "- This paper examines the effectiveness of yield management in airline pricing. Typically, you would expect the price of an air fare to increase as the number of available seats decreases. However, the paper takes a deeper look at prices dropping over time. One major finding in the paper is that a one standard deviation from the fare increases the load by 2.7% which for a 189-aircraft carrier would be a 5-seat increase.\n",
    "\n",
    "<a name=\"cite_ref-3\"></a>[<sup>3</sup>](#cite_note-3)https://www.sciencedirect.com/science/article/abs/pii/S016726811200203X \n",
    "- “airlines charge lower fares for observably similar tickets based on the day-of-week of purchase, and that this phenomenon is consistent with price discrimination”\n",
    "- Main focus of this paper is to compare prices of tickets transacted during the weekend vs weekday\n",
    "- This one focuses on domestic flights\n",
    "- Weekend purchase pricing strategies would have effects on profit\n",
    "This paper examines the change in pricing caused by the date of the week that the ticket was purchased (as opposed to the date of the flight). One major finding was the prices were lower during the weekend, which is based on the belief that weekend bookers are leisure travelers who are more likely to buy a ticket if the price is cheaper. This finding was done through analysis of a 2004 dataset of domestic U.S. airline flights; though the dataset is not the same scope as our research question, price elasticity could be something to consider.\n",
    "\n",
    "<a name=\"cite_ref-4\"></a>[<sup>4</sup>](#cite_note-4)https://illumin.usc.edu/the-algorithm-behind-plane-ticket-prices-and-how-to-get-the-best-deal/\n",
    "- Airlines often gamble that a couple of people will cancel their flight, and thus will overbook their flights to minimize loss\n",
    "- Another common practice is reserving a chunk of economy seats to poach last minute customers who are willing to pay a high price\n",
    "- The amount of seats to project depends on demand, which in turn, is determined by various factors such as “date, tie of day, origin, destination”, etc. \n",
    "- Categories of flights, such as commute flights and leisure flights have different rates of demand, and are affected by different factors.\n",
    "- Idea of vacation destination and work destinations also exists\n",
    "- Total demand, which we are interested in, fluctuates in two ways\n",
    "- Cyclically, i.e. by day of week and season of year\n",
    "- Stochastically, i.e. wild variation around the expected value of flight  \n",
    "- These coefficients are extremely difficult to predict\n",
    "- Also there exists the idea of price buckets, groups of flights with price tags that are made available or unavailable based on supply and demand\n",
    "\n",
    "This article examines the intricate factors that affect how airlines price their flights as well as the complex and seemingly arbitrary strategies that airlines will use to ensure the highest amount of profit. The demand changes that drive the changes in flight pricing can be split into two categories: cyclical variation, caused by aspects like time of day, season of year, etc., and stochastic, which is the more random variation that causes shifts around the expected value of the flights. Other factors that affect demand are the departure and arrival cities, flight categories (leisure flight vs work flight), and how close to the flight date the time of booking is. \n",
    "\n",
    "\n",
    "\n",
    "\n",
    "\n",
    "1. <a name=\"cite_note-1\"></a> [^](#cite_ref-1) Poelt, Stefan. “Practical Pricing and the Airline Industry.” SpringerLink, January 1, 1970. https://link.springer.com/chapter/10.1057/9780230294776_15. \n",
    "2. <a name=\"cite_note-2\"></a> [^](#cite_ref-2) M. Alderighi, J. Balaguer, et al. “Airline Pricing under Different Market Conditions: Evidence from European Low-Cost Carriers.” Tourism Management, October 10, 2014. https://www.sciencedirect.com/science/article/abs/pii/S026151771400185X. \n",
    "3. <a name=\"cite_note-3\"></a> [^](#cite_ref-2) V. Bilotkach, I. Gale, B. Mantin, et al. “Price Discrimination by Day-of-Week of Purchase: Evidence from the U.S. Airline Industry.” Journal of Economic Behavior & Organization, October 3, 2012. https://www.sciencedirect.com/science/article/abs/pii/S016726811200203X. \n",
    "4. <a name=\"cite_note-4\"></a> [^](#cite_ref-2) “The Algorithm behind Plane Ticket Prices and How to Get the Best Deal.” USC Viterbi School of Engineering, November 13, 2019. https://illumin.usc.edu/the-algorithm-behind-plane-ticket-prices-and-how-to-get-the-best-deal/. \n",
    "\n"
   ]
  },
  {
   "cell_type": "markdown",
   "metadata": {},
   "source": [
    "# Hypothesis\n"
   ]
  },
  {
   "cell_type": "markdown",
   "metadata": {},
   "source": [
    "We believe that the factors that most significantly impact the price of a flight from LAX to other major U.S airports is the difference between the flight date and search date, and total distance/travel duration to desination. From our research, we learned that the price of airline tickets gets higher the closer you book to the flight date since the number of available seats decreases over time. Finally, the further or longer (in terms of time) a plane has to fly, the more costs will be incurred in gasoline and labor costs for staff, so we would expect that further flights are more expensive."
   ]
  },
  {
   "cell_type": "markdown",
   "metadata": {},
   "source": [
    "# Data"
   ]
  },
  {
   "cell_type": "markdown",
   "metadata": {},
   "source": [
    "An ideal dataset would have information about flights on a global scale or focused on a domestic scale. We are looking for a relatively larger dataset (more than 100MB and less than 1 GB) with at least 100,000 data points. Variables we would like to see in our dataset would include, difference in time from booking date to flight date (i.e how early did they book their flight?), the origin of the flight, the destination of the flight, method of booking the flight (i.e direct from website, third party such as Expedia, etc.), airline brand/company, plane capacity and finally some ground truth label such as the average price paid by a customer, or prices paid by each customer. We would want our data to be in a tabular format so ideally we would want our data to be stored in a relational format (e.g, sqlite) or in excel/csv files such that it is easy for us to analyze and work with. In the US alone, there are millions of passengers every year and if we want to be as detailed as possible, it would be ideal if our data has hundreds of millions or even billions of observations across many years and geographics. However, this may prove to be difficult to work with given that not everyone may have experience working with tools such as Spark or Hadoop and so hundreds of thousands to millions would be preferable. We would want the observations to be people who book flights, perhaps within the last decade or two. That way we can see what has changed over time and what has remained constant, and can conduct further analysis on airline pricing based on what we find in the exploration phase of our data analysis.\n",
    "\n",
    "Possible dataset link: https://www.kaggle.com/datasets/dilwong/flightprices?resource=download\n"
   ]
  },
  {
   "cell_type": "markdown",
   "metadata": {},
   "source": [
    "# Ethics & Privacy"
   ]
  },
  {
   "cell_type": "markdown",
   "metadata": {},
   "source": [
    "The proposed dataset for our research questions may include sensitive personal information such as travel itineraries, payment information and demographic information of passengers. Moreover, dataset might subject to biases such as airlines, the pricing algorithms from different website and the date passengers books flights. If we identify biases or discrimination in our dataset, we will refining our data to keep the dataset balanced and adjusting our analytical approaches to mitigate these biases. Moreover, the flight pricing are varied during pandemic and we will also address the influence of covid in our analysis. "
   ]
  },
  {
   "cell_type": "markdown",
   "metadata": {},
   "source": [
    "# Team Expectations "
   ]
  },
  {
   "cell_type": "markdown",
   "metadata": {},
   "source": [
    "\n",
    "Read over the [COGS108 Team Policies](https://github.com/COGS108/Projects/blob/master/COGS108_TeamPolicies.md) individually. Then, include your group’s expectations of one another for successful completion of your COGS108 project below. Discuss and agree on what all of your expectations are. Discuss how your team will communicate throughout the quarter and consider how you will communicate respectfully should conflicts arise. By including each member’s name above and by adding their name to the submission, you are indicating that you have read the COGS108 Team Policies, accept your team’s expectations below, and have every intention to fulfill them. These expectations are for your team’s use and benefit — they won’t be graded for their details.\n",
    "\n",
    "* We will meet up every once a week online or in person to discuss where we at.\n",
    "* We will set up week expectations that should be done by the end of the week.\n",
    "* If a group memeber is having trouble with a task, we can assign them with a partner and organize the group so productivity is efficient. \n",
    "* Once a group member has completed a task, we will look through it as a group so everyone understands everyone's code.\n",
    "* On Github we will setup task to be completed by each group member for better organization of the tasks. This will help us visualize which tasks are completed/incompleted and see who is working on which task."
   ]
  },
  {
   "cell_type": "markdown",
   "metadata": {},
   "source": [
    "# Project Timeline Proposal"
   ]
  },
  {
   "cell_type": "markdown",
   "metadata": {},
   "source": [
    "Specify your team's specific project timeline. An example timeline has been provided. Changes the dates, times, names, and details to fit your group's plan.\n",
    "\n",
    "If you think you will need any special resources or training outside what we have covered in COGS 108 to solve your problem, then your proposal should state these clearly. For example, if you have selected a problem that involves implementing multiple neural networks, please state this so we can make sure you know what you’re doing and so we can point you to resources you will need to implement your project. Note that you are not required to use outside methods.\n",
    "\n",
    "\n",
    "\n",
    "| Meeting Date  | Meeting Time| Completed Before Meeting  | Discuss at Meeting |\n",
    "|---|---|---|---|\n",
    "| 2/9  |  10 PM | Take a look at the project description  | Determine a topic and split up work for project proposal | \n",
    "| 2/16 |  10 PM |  Do background research on topic and find potential data sets| Zero in on dataset(s) and crystallize research question, discuss ideas for data cleaning | \n",
    "| 2/23  | 10 PM  | Clean data, wrangle with the data and try to gleam insights  | Consolidate all knowledge about the dataset and finalize Checkpoint #1. Examine Checkpoint #2 in detail   |\n",
    "| 3/1  | 10 PM  | Preliminary EDA, do some simple graphs and get an understanding of what data each column contains | Discuss more potential methods for EDA that are advanced, begin Checkpoint #2 writeup, consider looking for other supplementary datasets   |\n",
    "| 3/8  | 10 PM  | Complete assigned EDA and analysis | Discuss/edit Analysis, finalize Checkpoint #2 |\n",
    "| 3/15  | 10 PM  | Complete analysis; Draft results/conclusion, scrip video| Do video, run through and polish the results and write up, prepare to submit final project |\n",
    "| 3/20  | Before 11:59 PM  | NA | Turn in Final Project & Group Project Surveys |"
   ]
  },
  {
   "cell_type": "markdown",
   "metadata": {},
   "source": []
  }
 ],
 "metadata": {
  "kernelspec": {
   "display_name": "Python 3 (ipykernel)",
   "language": "python",
   "name": "python3"
  },
  "language_info": {
   "codemirror_mode": {
    "name": "ipython",
    "version": 3
   },
   "file_extension": ".py",
   "mimetype": "text/x-python",
   "name": "python",
   "nbconvert_exporter": "python",
   "pygments_lexer": "ipython3",
   "version": "3.9.7"
  }
 },
 "nbformat": 4,
 "nbformat_minor": 2
}
