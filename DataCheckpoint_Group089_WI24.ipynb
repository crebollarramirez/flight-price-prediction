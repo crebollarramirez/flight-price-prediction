{
 "cells": [
  {
   "cell_type": "markdown",
   "metadata": {},
   "source": [
    "**If you lost points on the last checkpoint you can get them back by responding to TA/IA feedback**  \n",
    "\n",
    "Update/change the relevant sections where you lost those points, make sure you respond on GitHub Issues to your TA/IA to call their attention to the changes you made here.\n",
    "\n",
    "Please update your Timeline... no battle plan survives contact with the enemy, so make sure we understand how your plans have changed."
   ]
  },
  {
   "cell_type": "markdown",
   "metadata": {},
   "source": [
    "# COGS 108 - Data Checkpoint"
   ]
  },
  {
   "cell_type": "markdown",
   "metadata": {},
   "source": [
    "# Names\n",
    "\n",
    "- Christopher Rebollar-Ramirez\n",
    "- Licheng Hu\n",
    "- Lucien Chen\n",
    "- Steven Shi\n",
    "- Jasdeep Sandhu"
   ]
  },
  {
   "cell_type": "markdown",
   "metadata": {},
   "source": [
    "# Research Question"
   ]
  },
  {
   "cell_type": "markdown",
   "metadata": {},
   "source": [
    "Which factors most significantly affect the pricing of basic economy domestic flights from LAX to major U.S. airports in the month of June, based on analysis of pulled data from Expedia on travel duration, search date, flight date, and arrival airport?"
   ]
  },
  {
   "cell_type": "markdown",
   "metadata": {},
   "source": [
    "## Background and Prior Work"
   ]
  },
  {
   "cell_type": "markdown",
   "metadata": {},
   "source": [
    "Nearly a billion people fly in the US alone every year, with the exception of covid. <a name=\"cite_ref-1\"></a>[<sup>1</sup>](#cite_note-1) Given how prevalent air travel is, we decided to conduct a deeper analysis on airline pricing. We decided to look at LAX specifically given that it is one of the busiest airports in California.\n",
    "\n",
    "Tons of research has gone into examining different airline pricing strategies and factors that affect the cost of an air fare. In general, airlines, much like other businesses, cater their products toward different demographics of customers. People that travel for work or business are typically more flexible in regards to how they fly as well as less price-sensitve in comparison to leisure travelers.<a name=\"cite_ref-2\"></a>[<sup>2</sup>](#cite_note-2) By taking advantage of this fact, airline companies are able to effectively segment their products which allows them to maximize their revenues. Airlines also take advantage of dynamic pricing algorithms to match fluctuations in demand. While demand does have some random variation, cyclical factors such as time of day, day of the week or season, play a huge role in the price of an airfare.<a name=\"cite_ref-3\"></a>[<sup>3</sup>](#cite_note-3) These pricing algorithms are able to capitalize on these flucations in demand and change the price of a ticket accordingly. Other strategies used by airlines include overbooking, poaching, etc.\n",
    "\n",
    "1. <a name=\"cite_note-1\"></a> [^](#cite_ref-1)Full year 2022 U.S. Airline Traffic Data. Full Year 2022 U.S. Airline Traffic Data | Bureau of Transportation Statistics. (n.d.). https://www.bts.gov/newsroom/full-year-2022-us-airline-traffic-data#:~:text=For%20the%20full%20year%202022,and%20388%20million%20in%202020. \n",
    "\n",
    "2. <a name=\"cite_note-2\"></a> [^](#cite_ref-2)Poelt, S. (1970, January 1). Practical pricing and the airline industry. SpringerLink. https://link.springer.com/chapter/10.1057/9780230294776_15 \n",
    "\n",
    "3. <a name=\"cite_note-3\"></a> [^](#cite_ref-3)The algorithm behind plane ticket prices and how to get the best deal. USC Viterbi School of Engineering. (2019, November 13). https://illumin.usc.edu/the-algorithm-behind-plane-ticket-prices-and-how-to-get-the-best-deal/ "
   ]
  },
  {
   "cell_type": "markdown",
   "metadata": {},
   "source": [
    "# Hypothesis\n"
   ]
  },
  {
   "cell_type": "markdown",
   "metadata": {},
   "source": [
    "We believe that the factors that most significantly impact the price of a basic economy flight from LAX to other major U.S airports is the difference between the flight date and search date, and total distance/travel duration to desination. From our research, we learned that the price of airline tickets gets higher the closer you book to the flight date since the number of available seats decreases over time. Finally, the further or longer (in terms of time) a plane has to fly, the more costs will be incurred in gasoline and labor costs for staff, so we would expect that further flights are more expensive."
   ]
  },
  {
   "cell_type": "markdown",
   "metadata": {},
   "source": [
    "# Data"
   ]
  },
  {
   "cell_type": "markdown",
   "metadata": {},
   "source": [
    "## Data overview\n",
    "\n",
    "- Flight Prices\n",
    "  - Dataset Name: flights_processed.csv\n",
    "  - Link to the dataset: https://www.kaggle.com/datasets/dilwong/flightprices?resource=download\n",
    "  - Number of observations: 305,251\n",
    "  - Number of variables: 17\n",
    "\n",
    "Our flight dataset has the columns named searchDate (Date format), flightDate (Date format), startingAirport (Date format), destinationAirport (Airport name), travelDuration (PT[HH]H[MM]M), isBasicEconomy (Bool), isNonStop (Bool), baseFare (USD, Float), totalFare (USD, Float), seatsRemaining (int), totalTravelDistance (Miles, Float), segmentsAirlineName (String), segmentsAirlineCode (Int), segmentsDurationInSeconds (Int), segmentsDistance (Miles, Int), and segmentsCabinCode (Int). We wil analysis which variable effects our baseFare and totalFare.Our most inportant varaibles would be baseFare and totalFare. These will be our dependeent varaibles, we will see which variables which are included in the dataset affect our dependent variables. This will help us determine which factors significantly affect the pricing of basic economy domestic flights from LAX to major U.S. To make the data more useable and cleaner, we will eliminate flights with missing information, convert any strings to numeric if necessary, and have consistence data on every flight in the dataset. We can potential apply linear regression to see what affects our dependent variable.  "
   ]
  },
  {
   "cell_type": "markdown",
   "metadata": {},
   "source": [
    "## Flight Price Prediction - https://www.kaggle.com/datasets/shubhambathwal/flight-price-prediction"
   ]
  },
  {
   "cell_type": "code",
   "execution_count": null,
   "metadata": {},
   "outputs": [],
   "source": [
    "import pandas as pd\n",
    "\n",
    "#original dataset was 31 gb, too large to upload or process, so this was done on kaggle and split into chunks\n",
    "chunk_size = 10000  # Size of each chunk\n",
    "first_chunk = True\n",
    "\n",
    "#this processing was done on kaggle to utilize their more powerful processing power, the original dataset was 31gb, which is too large to upload or processs\n",
    "chunks = pd.read_csv('/kaggle/input/flightprices/itineraries.csv', chunksize=chunk_size)\n",
    "\n",
    "results = []\n",
    "\n",
    "for chunk in chunks:\n",
    "    #only consider flights from LAX\n",
    "    chunk = chunk[chunk['startingAirport'] == 'LAX']\n",
    "    #only consider June flights\n",
    "    chunk = chunk[chunk['flightDate'].str.contains('-06-')]\n",
    "    #only consider nonstop flights\n",
    "    chunk = chunk[chunk['isNonStop'] == True]\n",
    "    #drop unnecessary columns\n",
    "    chunk = chunk.drop(['legId', 'fareBasisCode','elapsedDays', 'isRefundable',\n",
    "                       'segmentsDepartureTimeEpochSeconds',\n",
    "                       'segmentsDepartureTimeRaw','segmentsArrivalTimeEpochSeconds',\n",
    "                       'segmentsArrivalTimeRaw','segmentsArrivalAirportCode','segmentsDepartureAirportCode'\n",
    "                       ,'segmentsEquipmentDescription'], axis=1)\n",
    "    processed_chunk = chunk\n",
    "\n",
    "    #add to our new processed dataset\n",
    "    if first_chunk:\n",
    "        processed_chunk.to_csv('processed_file.csv', mode='w', index=False)\n",
    "        first_chunk = False\n",
    "    else:\n",
    "        processed_chunk.to_csv('processed_file.csv', mode='a', index=False, header=False)\n",
    "        break"
   ]
  },
  {
   "cell_type": "markdown",
   "metadata": {},
   "source": [
    "# Ethics & Privacy"
   ]
  },
  {
   "cell_type": "markdown",
   "metadata": {},
   "source": [
    "- Thoughtful discussion of ethical concerns included\n",
    "- Ethical concerns consider the whole data science process (question asked, data collected, data being used, the bias in data, analysis, post-analysis, etc.)\n",
    "- How your group handled bias/ethical concerns clearly described\n",
    "\n",
    "Acknowledge and address any ethics & privacy related issues of your question(s), proposed dataset(s), and/or analyses. Use the information provided in lecture to guide your group discussion and thinking. If you need further guidance, check out [Deon's Ethics Checklist](http://deon.drivendata.org/#data-science-ethics-checklist). In particular:\n",
    "\n",
    "- Are there any biases/privacy/terms of use issues with the data you propsed?\n",
    "- Are there potential biases in your dataset(s), in terms of who it composes, and how it was collected, that may be problematic in terms of it allowing for equitable analysis? (For example, does your data exclude particular populations, or is it likely to reflect particular human biases in a way that could be a problem?)\n",
    "- How will you set out to detect these specific biases before, during, and after/when communicating your analysis?\n",
    "- Are there any other issues related to your topic area, data, and/or analyses that are potentially problematic in terms of data privacy and equitable impact?\n",
    "- How will you handle issues you identified?\n",
    "\n",
    "\n",
    "\n",
    "\n",
    "\n",
    "The proposed dataset for our research questions may include sensitive personal information such as travel itineraries, payment information and demographic information of passengers. Moreover, dataset might subject to biases such as airlines, the pricing algorithms from different website and the date passengers books flights. If we identify biases or discrimination in our dataset, we will refining our data to keep the dataset balanced and adjusting our analytical approaches to mitigate these biases. Moreover, the flight pricing are varied during pandemic and we will also address the influence of covid in our analysis. "
   ]
  },
  {
   "cell_type": "markdown",
   "metadata": {},
   "source": [
    "# Team Expectations "
   ]
  },
  {
   "cell_type": "markdown",
   "metadata": {},
   "source": [
    "\n",
    "Read over the [COGS108 Team Policies](https://github.com/COGS108/Projects/blob/master/COGS108_TeamPolicies.md) individually. Then, include your group’s expectations of one another for successful completion of your COGS108 project below. Discuss and agree on what all of your expectations are. Discuss how your team will communicate throughout the quarter and consider how you will communicate respectfully should conflicts arise. By including each member’s name above and by adding their name to the submission, you are indicating that you have read the COGS108 Team Policies, accept your team’s expectations below, and have every intention to fulfill them. These expectations are for your team’s use and benefit — they won’t be graded for their details.\n",
    "\n",
    "* We will meet up every once a week online or in person to discuss where we at.\n",
    "* We will set up week expectations that should be done by the end of the week.\n",
    "* If a group memeber is having trouble with a task, we can assign them with a partner and organize the group so productivity is efficient. \n",
    "* Once a group member has completed a task, we will look through it as a group so everyone understands everyone's code.\n",
    "* On Github we will setup task to be completed by each group member for better organization of the tasks. This will help us visualize which tasks are completed/incompleted and see who is working on which task."
   ]
  },
  {
   "cell_type": "markdown",
   "metadata": {},
   "source": [
    "# Project Timeline Proposal"
   ]
  },
  {
   "cell_type": "markdown",
   "metadata": {},
   "source": [
    "Specify your team's specific project timeline. An example timeline has been provided. Changes the dates, times, names, and details to fit your group's plan.\n",
    "\n",
    "If you think you will need any special resources or training outside what we have covered in COGS 108 to solve your problem, then your proposal should state these clearly. For example, if you have selected a problem that involves implementing multiple neural networks, please state this so we can make sure you know what you’re doing and so we can point you to resources you will need to implement your project. Note that you are not required to use outside methods.\n",
    "\n",
    "\n",
    "\n",
    "| Meeting Date  | Meeting Time| Completed Before Meeting  | Discuss at Meeting |\n",
    "|---|---|---|---|\n",
    "| 2/9  |  10 PM | Take a look at the project description (DONE) | Determine a topic and split up work for project proposal (DONE)| \n",
    "| 2/16 |  10 PM |  Do background research on topic and find potential data sets (DONE)| Zero in on dataset(s) and crystallize research question, discuss ideas for data cleaning (DONE)| \n",
    "| 2/23  | 10 PM  | Clean data, wrangle with the data and try to gleam insights  (DONE)| Consolidate all knowledge about the dataset and finalize Checkpoint #1. Examine Checkpoint #2 in detail (In Progress)|\n",
    "| 3/1  | 10 PM  | Preliminary EDA, do some simple graphs and get an understanding of what data each column contains | Discuss more potential methods for EDA that are advanced, begin Checkpoint #2 writeup, consider looking for other supplementary datasets   |\n",
    "| 3/8  | 10 PM  | Complete assigned EDA and analysis | Discuss/edit Analysis, finalize Checkpoint #2 |\n",
    "| 3/15  | 10 PM  | Complete analysis; Draft results/conclusion, scrip video| Do video, run through and polish the results and write up, prepare to submit final project |\n",
    "| 3/20  | Before 11:59 PM  | NA | Turn in Final Project & Group Project Surveys |"
   ]
  }
 ],
 "metadata": {
  "kernelspec": {
   "display_name": "Python 3 (ipykernel)",
   "language": "python",
   "name": "python3"
  },
  "language_info": {
   "codemirror_mode": {
    "name": "ipython",
    "version": 3
   },
   "file_extension": ".py",
   "mimetype": "text/x-python",
   "name": "python",
   "nbconvert_exporter": "python",
   "pygments_lexer": "ipython3",
   "version": "3.10.10"
  }
 },
 "nbformat": 4,
 "nbformat_minor": 2
}
